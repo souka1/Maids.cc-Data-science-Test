{
 "cells": [
  {
   "cell_type": "markdown",
   "metadata": {},
   "source": [
    "## Importing librairies and data"
   ]
  },
  {
   "cell_type": "code",
   "execution_count": 1,
   "metadata": {},
   "outputs": [],
   "source": [
    "# Importing libraries\n",
    "import pandas as pd\n",
    "import numpy as np\n",
    "from datetime import datetime\n",
    "import matplotlib.pyplot as plt\n",
    "import seaborn as sns\n",
    "from scipy import stats\n",
    "\n",
    "import warnings\n",
    "warnings.filterwarnings('ignore')"
   ]
  },
  {
   "cell_type": "code",
   "execution_count": 2,
   "metadata": {},
   "outputs": [],
   "source": [
    "df=pd.read_csv('test-file-copy.csv')"
   ]
  },
  {
   "cell_type": "code",
   "execution_count": 3,
   "metadata": {},
   "outputs": [
    {
     "data": {
      "text/html": [
       "<div>\n",
       "<style scoped>\n",
       "    .dataframe tbody tr th:only-of-type {\n",
       "        vertical-align: middle;\n",
       "    }\n",
       "\n",
       "    .dataframe tbody tr th {\n",
       "        vertical-align: top;\n",
       "    }\n",
       "\n",
       "    .dataframe thead th {\n",
       "        text-align: right;\n",
       "    }\n",
       "</style>\n",
       "<table border=\"1\" class=\"dataframe\">\n",
       "  <thead>\n",
       "    <tr style=\"text-align: right;\">\n",
       "      <th></th>\n",
       "      <th>id</th>\n",
       "      <th>nationality</th>\n",
       "      <th>Maid Type (wlak-in / operator)</th>\n",
       "      <th>date of joining the company</th>\n",
       "      <th>first time to get hired by a client</th>\n",
       "      <th>Times Hired by a client</th>\n",
       "      <th>Times her client cancelled his contract</th>\n",
       "      <th>Times her client replaced her</th>\n",
       "      <th>Nbr. Of Days Hired</th>\n",
       "      <th>Nbr. Of days unemployed (available)</th>\n",
       "      <th>Complaint Number</th>\n",
       "      <th>Number Of Interviews done</th>\n",
       "      <th>Number of successful interviews (if exists)</th>\n",
       "      <th>date left</th>\n",
       "      <th>current status</th>\n",
       "      <th>mode of termination</th>\n",
       "    </tr>\n",
       "  </thead>\n",
       "  <tbody>\n",
       "    <tr>\n",
       "      <th>0</th>\n",
       "      <td>13514</td>\n",
       "      <td>Ethiopian</td>\n",
       "      <td>FREEDOM_OPERATOR</td>\n",
       "      <td>NaN</td>\n",
       "      <td>NaN</td>\n",
       "      <td>0</td>\n",
       "      <td>0</td>\n",
       "      <td>0</td>\n",
       "      <td>0</td>\n",
       "      <td>0</td>\n",
       "      <td>0</td>\n",
       "      <td>0</td>\n",
       "      <td>0</td>\n",
       "      <td>NaN</td>\n",
       "      <td>UNREACHABLE_AFTER_EXIT</td>\n",
       "      <td>NaN</td>\n",
       "    </tr>\n",
       "    <tr>\n",
       "      <th>1</th>\n",
       "      <td>13515</td>\n",
       "      <td>Ethiopian</td>\n",
       "      <td>FREEDOM_OPERATOR</td>\n",
       "      <td>2/18/19 9:47</td>\n",
       "      <td>2/18/19 9:47</td>\n",
       "      <td>6</td>\n",
       "      <td>0</td>\n",
       "      <td>6</td>\n",
       "      <td>477</td>\n",
       "      <td>75</td>\n",
       "      <td>15</td>\n",
       "      <td>16</td>\n",
       "      <td>6</td>\n",
       "      <td>NaN</td>\n",
       "      <td>WITH_CLIENT</td>\n",
       "      <td>NaN</td>\n",
       "    </tr>\n",
       "    <tr>\n",
       "      <th>2</th>\n",
       "      <td>13516</td>\n",
       "      <td>Ethiopian</td>\n",
       "      <td>FREEDOM_OPERATOR</td>\n",
       "      <td>3/8/19 15:31</td>\n",
       "      <td>3/8/19 15:31</td>\n",
       "      <td>2</td>\n",
       "      <td>1</td>\n",
       "      <td>0</td>\n",
       "      <td>513</td>\n",
       "      <td>8</td>\n",
       "      <td>2</td>\n",
       "      <td>2</td>\n",
       "      <td>2</td>\n",
       "      <td>NaN</td>\n",
       "      <td>WITH_CLIENT</td>\n",
       "      <td>NaN</td>\n",
       "    </tr>\n",
       "    <tr>\n",
       "      <th>3</th>\n",
       "      <td>13517</td>\n",
       "      <td>Ethiopian</td>\n",
       "      <td>FREEDOM_OPERATOR</td>\n",
       "      <td>NaN</td>\n",
       "      <td>NaN</td>\n",
       "      <td>0</td>\n",
       "      <td>0</td>\n",
       "      <td>0</td>\n",
       "      <td>0</td>\n",
       "      <td>0</td>\n",
       "      <td>0</td>\n",
       "      <td>0</td>\n",
       "      <td>0</td>\n",
       "      <td>NaN</td>\n",
       "      <td>UNREACHABLE_AFTER_EXIT</td>\n",
       "      <td>NaN</td>\n",
       "    </tr>\n",
       "    <tr>\n",
       "      <th>4</th>\n",
       "      <td>13518</td>\n",
       "      <td>Ethiopian</td>\n",
       "      <td>FREEDOM_OPERATOR</td>\n",
       "      <td>NaN</td>\n",
       "      <td>NaN</td>\n",
       "      <td>0</td>\n",
       "      <td>0</td>\n",
       "      <td>0</td>\n",
       "      <td>0</td>\n",
       "      <td>0</td>\n",
       "      <td>0</td>\n",
       "      <td>0</td>\n",
       "      <td>0</td>\n",
       "      <td>NaN</td>\n",
       "      <td>UNREACHABLE_AFTER_EXIT</td>\n",
       "      <td>NaN</td>\n",
       "    </tr>\n",
       "  </tbody>\n",
       "</table>\n",
       "</div>"
      ],
      "text/plain": [
       "      id nationality Maid Type (wlak-in / operator)  \\\n",
       "0  13514   Ethiopian               FREEDOM_OPERATOR   \n",
       "1  13515   Ethiopian               FREEDOM_OPERATOR   \n",
       "2  13516   Ethiopian               FREEDOM_OPERATOR   \n",
       "3  13517   Ethiopian               FREEDOM_OPERATOR   \n",
       "4  13518   Ethiopian               FREEDOM_OPERATOR   \n",
       "\n",
       "  date of joining the company first time to get hired by a client   \\\n",
       "0                         NaN                                  NaN   \n",
       "1                2/18/19 9:47                         2/18/19 9:47   \n",
       "2                3/8/19 15:31                         3/8/19 15:31   \n",
       "3                         NaN                                  NaN   \n",
       "4                         NaN                                  NaN   \n",
       "\n",
       "   Times Hired by a client  Times her client cancelled his contract  \\\n",
       "0                        0                                        0   \n",
       "1                        6                                        0   \n",
       "2                        2                                        1   \n",
       "3                        0                                        0   \n",
       "4                        0                                        0   \n",
       "\n",
       "   Times her client replaced her  Nbr. Of Days Hired  \\\n",
       "0                              0                   0   \n",
       "1                              6                 477   \n",
       "2                              0                 513   \n",
       "3                              0                   0   \n",
       "4                              0                   0   \n",
       "\n",
       "   Nbr. Of days unemployed (available)  Complaint Number  \\\n",
       "0                                    0                 0   \n",
       "1                                   75                15   \n",
       "2                                    8                 2   \n",
       "3                                    0                 0   \n",
       "4                                    0                 0   \n",
       "\n",
       "   Number Of Interviews done  Number of successful interviews (if exists)  \\\n",
       "0                          0                                            0   \n",
       "1                         16                                            6   \n",
       "2                          2                                            2   \n",
       "3                          0                                            0   \n",
       "4                          0                                            0   \n",
       "\n",
       "  date left          current status mode of termination  \n",
       "0       NaN  UNREACHABLE_AFTER_EXIT                 NaN  \n",
       "1       NaN             WITH_CLIENT                 NaN  \n",
       "2       NaN             WITH_CLIENT                 NaN  \n",
       "3       NaN  UNREACHABLE_AFTER_EXIT                 NaN  \n",
       "4       NaN  UNREACHABLE_AFTER_EXIT                 NaN  "
      ]
     },
     "execution_count": 3,
     "metadata": {},
     "output_type": "execute_result"
    }
   ],
   "source": [
    "df.head()\n"
   ]
  },
  {
   "cell_type": "code",
   "execution_count": 4,
   "metadata": {},
   "outputs": [
    {
     "data": {
      "text/plain": [
       "(2576, 16)"
      ]
     },
     "execution_count": 4,
     "metadata": {},
     "output_type": "execute_result"
    }
   ],
   "source": [
    "#  dataset dimensions - (rows, columns)\n",
    "df.shape"
   ]
  },
  {
   "cell_type": "markdown",
   "metadata": {},
   "source": [
    "## Preparing the Data"
   ]
  },
  {
   "cell_type": "code",
   "execution_count": 5,
   "metadata": {},
   "outputs": [
    {
     "data": {
      "text/plain": [
       "id                                                0\n",
       "nationality                                       0\n",
       "Maid Type (wlak-in / operator)                    0\n",
       "date of joining the company                    1475\n",
       "first time to get hired by a client            1527\n",
       "Times Hired by a client                           0\n",
       "Times her client cancelled his contract           0\n",
       "Times her client replaced her                     0\n",
       "Nbr. Of Days Hired                                0\n",
       "Nbr. Of days unemployed (available)               0\n",
       "Complaint Number                                  0\n",
       "Number Of Interviews done                         0\n",
       "Number of successful interviews (if exists)       0\n",
       "date left                                      1919\n",
       "current status                                    0\n",
       "mode of termination                            1904\n",
       "dtype: int64"
      ]
     },
     "execution_count": 5,
     "metadata": {},
     "output_type": "execute_result"
    }
   ],
   "source": [
    "# Count of null values for dataset\n",
    "df.isnull().sum()"
   ]
  },
  {
   "cell_type": "markdown",
   "metadata": {},
   "source": [
    "We observe that the data is full of missing values, removing missing values help us better understand the data ."
   ]
  },
  {
   "cell_type": "code",
   "execution_count": 6,
   "metadata": {},
   "outputs": [],
   "source": [
    "# Remove null values for dataset\n",
    "df=df.dropna()"
   ]
  },
  {
   "cell_type": "code",
   "execution_count": 7,
   "metadata": {},
   "outputs": [
    {
     "name": "stdout",
     "output_type": "stream",
     "text": [
      "<class 'pandas.core.frame.DataFrame'>\n",
      "Int64Index: 419 entries, 6 to 2530\n",
      "Data columns (total 16 columns):\n",
      " #   Column                                       Non-Null Count  Dtype \n",
      "---  ------                                       --------------  ----- \n",
      " 0   id                                           419 non-null    int64 \n",
      " 1   nationality                                  419 non-null    object\n",
      " 2   Maid Type (wlak-in / operator)               419 non-null    object\n",
      " 3   date of joining the company                  419 non-null    object\n",
      " 4   first time to get hired by a client          419 non-null    object\n",
      " 5   Times Hired by a client                      419 non-null    int64 \n",
      " 6   Times her client cancelled his contract      419 non-null    int64 \n",
      " 7   Times her client replaced her                419 non-null    int64 \n",
      " 8   Nbr. Of Days Hired                           419 non-null    int64 \n",
      " 9   Nbr. Of days unemployed (available)          419 non-null    int64 \n",
      " 10  Complaint Number                             419 non-null    int64 \n",
      " 11  Number Of Interviews done                    419 non-null    int64 \n",
      " 12  Number of successful interviews (if exists)  419 non-null    int64 \n",
      " 13  date left                                    419 non-null    object\n",
      " 14  current status                               419 non-null    object\n",
      " 15  mode of termination                          419 non-null    object\n",
      "dtypes: int64(9), object(7)\n",
      "memory usage: 55.6+ KB\n"
     ]
    }
   ],
   "source": [
    "# Features data-type\n",
    "df.info()\n"
   ]
  },
  {
   "cell_type": "markdown",
   "metadata": {},
   "source": [
    "We observe dates columns are of type object, the next process is converting dates columns to date type."
   ]
  },
  {
   "cell_type": "code",
   "execution_count": 8,
   "metadata": {},
   "outputs": [],
   "source": [
    "# convert date of joining the company to date type\n",
    "df['date of joining the company']=pd.to_datetime(df['date of joining the company']).dt.date"
   ]
  },
  {
   "cell_type": "code",
   "execution_count": 9,
   "metadata": {},
   "outputs": [],
   "source": [
    "# convert date left to date type\n",
    "df['date left']=pd.to_datetime(df['date left']).dt.date"
   ]
  },
  {
   "cell_type": "code",
   "execution_count": 10,
   "metadata": {},
   "outputs": [],
   "source": [
    "# convert first time to get hired by a client to date type\n",
    "df['first time to get hired by a client ']=pd.to_datetime(df['first time to get hired by a client ']).dt.date\n"
   ]
  },
  {
   "cell_type": "markdown",
   "metadata": {},
   "source": [
    "## Question 1 : Client disatisfaction"
   ]
  },
  {
   "cell_type": "markdown",
   "metadata": {},
   "source": [
    "#### I created client disatisfaction column, it is the sum of number of cancelation, number of complaint and number of replacement."
   ]
  },
  {
   "cell_type": "code",
   "execution_count": 45,
   "metadata": {},
   "outputs": [],
   "source": [
    "# create client disatisfaction column\n",
    "df['disatisfaction']=df['Times her client cancelled his contract']+df['Complaint Number']+df['Times her client replaced her']"
   ]
  },
  {
   "cell_type": "code",
   "execution_count": 12,
   "metadata": {},
   "outputs": [
    {
     "data": {
      "text/html": [
       "<div>\n",
       "<style scoped>\n",
       "    .dataframe tbody tr th:only-of-type {\n",
       "        vertical-align: middle;\n",
       "    }\n",
       "\n",
       "    .dataframe tbody tr th {\n",
       "        vertical-align: top;\n",
       "    }\n",
       "\n",
       "    .dataframe thead th {\n",
       "        text-align: right;\n",
       "    }\n",
       "</style>\n",
       "<table border=\"1\" class=\"dataframe\">\n",
       "  <thead>\n",
       "    <tr style=\"text-align: right;\">\n",
       "      <th></th>\n",
       "      <th>id</th>\n",
       "      <th>nationality</th>\n",
       "      <th>Maid Type (wlak-in / operator)</th>\n",
       "      <th>date of joining the company</th>\n",
       "      <th>first time to get hired by a client</th>\n",
       "      <th>Times Hired by a client</th>\n",
       "      <th>Times her client cancelled his contract</th>\n",
       "      <th>Times her client replaced her</th>\n",
       "      <th>Nbr. Of Days Hired</th>\n",
       "      <th>Nbr. Of days unemployed (available)</th>\n",
       "      <th>Complaint Number</th>\n",
       "      <th>Number Of Interviews done</th>\n",
       "      <th>Number of successful interviews (if exists)</th>\n",
       "      <th>date left</th>\n",
       "      <th>current status</th>\n",
       "      <th>mode of termination</th>\n",
       "      <th>disatisfaction</th>\n",
       "    </tr>\n",
       "  </thead>\n",
       "  <tbody>\n",
       "    <tr>\n",
       "      <th>6</th>\n",
       "      <td>13528</td>\n",
       "      <td>Kenyan</td>\n",
       "      <td>FREEDOM_OPERATOR</td>\n",
       "      <td>2019-03-29</td>\n",
       "      <td>2019-04-16</td>\n",
       "      <td>1</td>\n",
       "      <td>1</td>\n",
       "      <td>0</td>\n",
       "      <td>69</td>\n",
       "      <td>90</td>\n",
       "      <td>0</td>\n",
       "      <td>7</td>\n",
       "      <td>1</td>\n",
       "      <td>2019-10-08</td>\n",
       "      <td>EMPLOYEMENT_TERMINATED</td>\n",
       "      <td>FIRED</td>\n",
       "      <td>1</td>\n",
       "    </tr>\n",
       "    <tr>\n",
       "      <th>8</th>\n",
       "      <td>13530</td>\n",
       "      <td>Kenyan</td>\n",
       "      <td>FREEDOM_OPERATOR</td>\n",
       "      <td>2019-02-22</td>\n",
       "      <td>2019-02-22</td>\n",
       "      <td>1</td>\n",
       "      <td>0</td>\n",
       "      <td>1</td>\n",
       "      <td>5</td>\n",
       "      <td>41</td>\n",
       "      <td>1</td>\n",
       "      <td>13</td>\n",
       "      <td>1</td>\n",
       "      <td>2019-04-02</td>\n",
       "      <td>EMPLOYEMENT_TERMINATED</td>\n",
       "      <td>FIRED</td>\n",
       "      <td>2</td>\n",
       "    </tr>\n",
       "    <tr>\n",
       "      <th>12</th>\n",
       "      <td>13560</td>\n",
       "      <td>Kenyan</td>\n",
       "      <td>FREEDOM_OPERATOR</td>\n",
       "      <td>2019-02-20</td>\n",
       "      <td>2019-02-20</td>\n",
       "      <td>1</td>\n",
       "      <td>0</td>\n",
       "      <td>1</td>\n",
       "      <td>4</td>\n",
       "      <td>6</td>\n",
       "      <td>1</td>\n",
       "      <td>1</td>\n",
       "      <td>1</td>\n",
       "      <td>2019-03-10</td>\n",
       "      <td>EMPLOYEMENT_TERMINATED</td>\n",
       "      <td>QUIT</td>\n",
       "      <td>2</td>\n",
       "    </tr>\n",
       "    <tr>\n",
       "      <th>64</th>\n",
       "      <td>13717</td>\n",
       "      <td>Kenyan</td>\n",
       "      <td>FREEDOM_OPERATOR</td>\n",
       "      <td>2019-03-25</td>\n",
       "      <td>2019-03-25</td>\n",
       "      <td>3</td>\n",
       "      <td>0</td>\n",
       "      <td>3</td>\n",
       "      <td>179</td>\n",
       "      <td>15</td>\n",
       "      <td>4</td>\n",
       "      <td>16</td>\n",
       "      <td>3</td>\n",
       "      <td>2019-11-18</td>\n",
       "      <td>EMPLOYEMENT_TERMINATED</td>\n",
       "      <td>QUIT</td>\n",
       "      <td>7</td>\n",
       "    </tr>\n",
       "    <tr>\n",
       "      <th>68</th>\n",
       "      <td>13722</td>\n",
       "      <td>Kenyan</td>\n",
       "      <td>FREEDOM_OPERATOR</td>\n",
       "      <td>2019-03-15</td>\n",
       "      <td>2019-03-15</td>\n",
       "      <td>2</td>\n",
       "      <td>1</td>\n",
       "      <td>1</td>\n",
       "      <td>139</td>\n",
       "      <td>25</td>\n",
       "      <td>2</td>\n",
       "      <td>20</td>\n",
       "      <td>2</td>\n",
       "      <td>2019-09-05</td>\n",
       "      <td>EMPLOYEMENT_TERMINATED</td>\n",
       "      <td>FIRED</td>\n",
       "      <td>4</td>\n",
       "    </tr>\n",
       "    <tr>\n",
       "      <th>...</th>\n",
       "      <td>...</td>\n",
       "      <td>...</td>\n",
       "      <td>...</td>\n",
       "      <td>...</td>\n",
       "      <td>...</td>\n",
       "      <td>...</td>\n",
       "      <td>...</td>\n",
       "      <td>...</td>\n",
       "      <td>...</td>\n",
       "      <td>...</td>\n",
       "      <td>...</td>\n",
       "      <td>...</td>\n",
       "      <td>...</td>\n",
       "      <td>...</td>\n",
       "      <td>...</td>\n",
       "      <td>...</td>\n",
       "      <td>...</td>\n",
       "    </tr>\n",
       "    <tr>\n",
       "      <th>2076</th>\n",
       "      <td>20929</td>\n",
       "      <td>Nigerian</td>\n",
       "      <td>WALKIN</td>\n",
       "      <td>2020-03-16</td>\n",
       "      <td>2020-03-16</td>\n",
       "      <td>1</td>\n",
       "      <td>0</td>\n",
       "      <td>1</td>\n",
       "      <td>4</td>\n",
       "      <td>33</td>\n",
       "      <td>7</td>\n",
       "      <td>7</td>\n",
       "      <td>1</td>\n",
       "      <td>2020-04-19</td>\n",
       "      <td>EMPLOYEMENT_TERMINATED</td>\n",
       "      <td>FIRED</td>\n",
       "      <td>8</td>\n",
       "    </tr>\n",
       "    <tr>\n",
       "      <th>2128</th>\n",
       "      <td>21092</td>\n",
       "      <td>Nigerian</td>\n",
       "      <td>WALKIN</td>\n",
       "      <td>2020-03-23</td>\n",
       "      <td>2020-03-23</td>\n",
       "      <td>1</td>\n",
       "      <td>0</td>\n",
       "      <td>1</td>\n",
       "      <td>2</td>\n",
       "      <td>21</td>\n",
       "      <td>1</td>\n",
       "      <td>1</td>\n",
       "      <td>1</td>\n",
       "      <td>2020-04-19</td>\n",
       "      <td>EMPLOYEMENT_TERMINATED</td>\n",
       "      <td>FIRED</td>\n",
       "      <td>2</td>\n",
       "    </tr>\n",
       "    <tr>\n",
       "      <th>2175</th>\n",
       "      <td>21144</td>\n",
       "      <td>Nigerian</td>\n",
       "      <td>WALKIN</td>\n",
       "      <td>2020-03-29</td>\n",
       "      <td>2020-03-29</td>\n",
       "      <td>7</td>\n",
       "      <td>1</td>\n",
       "      <td>6</td>\n",
       "      <td>32</td>\n",
       "      <td>24</td>\n",
       "      <td>12</td>\n",
       "      <td>6</td>\n",
       "      <td>6</td>\n",
       "      <td>2020-06-13</td>\n",
       "      <td>EMPLOYEMENT_TERMINATED</td>\n",
       "      <td>FIRED</td>\n",
       "      <td>19</td>\n",
       "    </tr>\n",
       "    <tr>\n",
       "      <th>2177</th>\n",
       "      <td>21148</td>\n",
       "      <td>Nigerian</td>\n",
       "      <td>WALKIN</td>\n",
       "      <td>2020-03-23</td>\n",
       "      <td>2020-03-23</td>\n",
       "      <td>1</td>\n",
       "      <td>1</td>\n",
       "      <td>0</td>\n",
       "      <td>8</td>\n",
       "      <td>12</td>\n",
       "      <td>1</td>\n",
       "      <td>1</td>\n",
       "      <td>1</td>\n",
       "      <td>2020-04-19</td>\n",
       "      <td>EMPLOYEMENT_TERMINATED</td>\n",
       "      <td>FIRED</td>\n",
       "      <td>2</td>\n",
       "    </tr>\n",
       "    <tr>\n",
       "      <th>2530</th>\n",
       "      <td>21785</td>\n",
       "      <td>Cameroonian</td>\n",
       "      <td>WALKIN</td>\n",
       "      <td>2020-07-13</td>\n",
       "      <td>2020-07-15</td>\n",
       "      <td>3</td>\n",
       "      <td>0</td>\n",
       "      <td>3</td>\n",
       "      <td>37</td>\n",
       "      <td>7</td>\n",
       "      <td>8</td>\n",
       "      <td>2</td>\n",
       "      <td>2</td>\n",
       "      <td>2020-08-27</td>\n",
       "      <td>EMPLOYEMENT_TERMINATED</td>\n",
       "      <td>FIRED</td>\n",
       "      <td>11</td>\n",
       "    </tr>\n",
       "  </tbody>\n",
       "</table>\n",
       "<p>419 rows × 17 columns</p>\n",
       "</div>"
      ],
      "text/plain": [
       "         id  nationality Maid Type (wlak-in / operator)  \\\n",
       "6     13528       Kenyan               FREEDOM_OPERATOR   \n",
       "8     13530       Kenyan               FREEDOM_OPERATOR   \n",
       "12    13560       Kenyan               FREEDOM_OPERATOR   \n",
       "64    13717       Kenyan               FREEDOM_OPERATOR   \n",
       "68    13722       Kenyan               FREEDOM_OPERATOR   \n",
       "...     ...          ...                            ...   \n",
       "2076  20929     Nigerian                         WALKIN   \n",
       "2128  21092     Nigerian                         WALKIN   \n",
       "2175  21144     Nigerian                         WALKIN   \n",
       "2177  21148     Nigerian                         WALKIN   \n",
       "2530  21785  Cameroonian                         WALKIN   \n",
       "\n",
       "     date of joining the company first time to get hired by a client   \\\n",
       "6                     2019-03-29                           2019-04-16   \n",
       "8                     2019-02-22                           2019-02-22   \n",
       "12                    2019-02-20                           2019-02-20   \n",
       "64                    2019-03-25                           2019-03-25   \n",
       "68                    2019-03-15                           2019-03-15   \n",
       "...                          ...                                  ...   \n",
       "2076                  2020-03-16                           2020-03-16   \n",
       "2128                  2020-03-23                           2020-03-23   \n",
       "2175                  2020-03-29                           2020-03-29   \n",
       "2177                  2020-03-23                           2020-03-23   \n",
       "2530                  2020-07-13                           2020-07-15   \n",
       "\n",
       "      Times Hired by a client  Times her client cancelled his contract  \\\n",
       "6                           1                                        1   \n",
       "8                           1                                        0   \n",
       "12                          1                                        0   \n",
       "64                          3                                        0   \n",
       "68                          2                                        1   \n",
       "...                       ...                                      ...   \n",
       "2076                        1                                        0   \n",
       "2128                        1                                        0   \n",
       "2175                        7                                        1   \n",
       "2177                        1                                        1   \n",
       "2530                        3                                        0   \n",
       "\n",
       "      Times her client replaced her  Nbr. Of Days Hired  \\\n",
       "6                                 0                  69   \n",
       "8                                 1                   5   \n",
       "12                                1                   4   \n",
       "64                                3                 179   \n",
       "68                                1                 139   \n",
       "...                             ...                 ...   \n",
       "2076                              1                   4   \n",
       "2128                              1                   2   \n",
       "2175                              6                  32   \n",
       "2177                              0                   8   \n",
       "2530                              3                  37   \n",
       "\n",
       "      Nbr. Of days unemployed (available)  Complaint Number  \\\n",
       "6                                      90                 0   \n",
       "8                                      41                 1   \n",
       "12                                      6                 1   \n",
       "64                                     15                 4   \n",
       "68                                     25                 2   \n",
       "...                                   ...               ...   \n",
       "2076                                   33                 7   \n",
       "2128                                   21                 1   \n",
       "2175                                   24                12   \n",
       "2177                                   12                 1   \n",
       "2530                                    7                 8   \n",
       "\n",
       "      Number Of Interviews done  Number of successful interviews (if exists)  \\\n",
       "6                             7                                            1   \n",
       "8                            13                                            1   \n",
       "12                            1                                            1   \n",
       "64                           16                                            3   \n",
       "68                           20                                            2   \n",
       "...                         ...                                          ...   \n",
       "2076                          7                                            1   \n",
       "2128                          1                                            1   \n",
       "2175                          6                                            6   \n",
       "2177                          1                                            1   \n",
       "2530                          2                                            2   \n",
       "\n",
       "       date left          current status mode of termination  disatisfaction  \n",
       "6     2019-10-08  EMPLOYEMENT_TERMINATED               FIRED               1  \n",
       "8     2019-04-02  EMPLOYEMENT_TERMINATED               FIRED               2  \n",
       "12    2019-03-10  EMPLOYEMENT_TERMINATED                QUIT               2  \n",
       "64    2019-11-18  EMPLOYEMENT_TERMINATED                QUIT               7  \n",
       "68    2019-09-05  EMPLOYEMENT_TERMINATED               FIRED               4  \n",
       "...          ...                     ...                 ...             ...  \n",
       "2076  2020-04-19  EMPLOYEMENT_TERMINATED               FIRED               8  \n",
       "2128  2020-04-19  EMPLOYEMENT_TERMINATED               FIRED               2  \n",
       "2175  2020-06-13  EMPLOYEMENT_TERMINATED               FIRED              19  \n",
       "2177  2020-04-19  EMPLOYEMENT_TERMINATED               FIRED               2  \n",
       "2530  2020-08-27  EMPLOYEMENT_TERMINATED               FIRED              11  \n",
       "\n",
       "[419 rows x 17 columns]"
      ]
     },
     "execution_count": 12,
     "metadata": {},
     "output_type": "execute_result"
    }
   ],
   "source": [
    "df"
   ]
  },
  {
   "cell_type": "code",
   "execution_count": 13,
   "metadata": {},
   "outputs": [
    {
     "data": {
      "text/plain": [
       "FREEDOM_OPERATOR    300\n",
       "WALKIN              119\n",
       "Name: Maid Type (wlak-in / operator), dtype: int64"
      ]
     },
     "execution_count": 13,
     "metadata": {},
     "output_type": "execute_result"
    }
   ],
   "source": [
    "df['Maid Type (wlak-in / operator)'].value_counts()"
   ]
  },
  {
   "cell_type": "markdown",
   "metadata": {},
   "source": [
    "We observe that the FREEDOM_OPERATOR type is much greater than WALKIN type.\n"
   ]
  },
  {
   "cell_type": "markdown",
   "metadata": {},
   "source": [
    "\n",
    "##### We start by creating a Histogram of client dissatisfaction to see the distribution of data.\n"
   ]
  },
  {
   "cell_type": "code",
   "execution_count": 14,
   "metadata": {},
   "outputs": [
    {
     "data": {
      "image/png": "[encoded data removed]",
      "text/plain": [
       "<Figure size 720x360 with 1 Axes>"
      ]
     },
     "metadata": {
      "needs_background": "light"
     },
     "output_type": "display_data"
    }
   ],
   "source": [
    "plt.figure(figsize=(10,5))\n",
    "plt.xlim(0,50)\n",
    "plt.xlabel('disatisfaction')\n",
    "plt.ylabel('Density')\n",
    "sns.kdeplot(df['disatisfaction'],shade=True)\n",
    "plt.show()"
   ]
  },
  {
   "cell_type": "markdown",
   "metadata": {},
   "source": [
    "We observe that the Histogram doesn't have normal distribution, we need also to create a histogram for the two types of group (FREEDOM_OPERATOR and WALK-INs ) to verify the distribution of our dataset."
   ]
  },
  {
   "cell_type": "code",
   "execution_count": 15,
   "metadata": {},
   "outputs": [
    {
     "data": {
      "text/plain": [
       "Maid Type (wlak-in / operator)\n",
       "FREEDOM_OPERATOR    AxesSubplot(0.125,0.125;0.775x0.755)\n",
       "WALKIN              AxesSubplot(0.125,0.125;0.775x0.755)\n",
       "Name: disatisfaction, dtype: object"
      ]
     },
     "execution_count": 15,
     "metadata": {},
     "output_type": "execute_result"
    },
    {
     "data": {
      "image/png": "[encoded data removed]",
      "text/plain": [
       "<Figure size 432x288 with 1 Axes>"
      ]
     },
     "metadata": {
      "needs_background": "light"
     },
     "output_type": "display_data"
    }
   ],
   "source": [
    "df.groupby('Maid Type (wlak-in / operator)')['disatisfaction'].plot(kind='density', legend=True)\n"
   ]
  },
  {
   "cell_type": "markdown",
   "metadata": {},
   "source": [
    "We observe that the two groups doesn’t not have a normal distribution , and we note that the distribution of WALK-INs Type is approaching to the normal. we also observe that client's disatisfaction of WALKINs type is lager than OPRATION type .\n",
    "to make sure of our observations, we are going to use boxplot to understand better."
   ]
  },
  {
   "cell_type": "code",
   "execution_count": 16,
   "metadata": {},
   "outputs": [
    {
     "data": {
      "image/png": "[encoded data removed]",
      "text/plain": [
       "<Figure size 432x288 with 1 Axes>"
      ]
     },
     "metadata": {
      "needs_background": "light"
     },
     "output_type": "display_data"
    }
   ],
   "source": [
    "ax = sns.boxplot(x=\"Maid Type (wlak-in / operator)\", y=\"disatisfaction\", data=df)"
   ]
  },
  {
   "cell_type": "markdown",
   "metadata": {},
   "source": [
    "We observe that The data has outliers, especialy for FREEDOM_OPERATOR type, and client disatisfaction of WALKIN type is higher than client disatisfaction of FREEDOM_OPERATOR type."
   ]
  },
  {
   "cell_type": "code",
   "execution_count": 17,
   "metadata": {},
   "outputs": [
    {
     "data": {
      "text/plain": [
       "Maid Type (wlak-in / operator)\n",
       "FREEDOM_OPERATOR    AxesSubplot(0.125,0.125;0.775x0.755)\n",
       "WALKIN              AxesSubplot(0.125,0.125;0.775x0.755)\n",
       "Name: disatisfaction, dtype: object"
      ]
     },
     "execution_count": 17,
     "metadata": {},
     "output_type": "execute_result"
    },
    {
     "data": {
      "image/png": "[encoded data removed]",
      "text/plain": [
       "<Figure size 432x288 with 1 Axes>"
      ]
     },
     "metadata": {
      "needs_background": "light"
     },
     "output_type": "display_data"
    }
   ],
   "source": [
    "df.groupby('Maid Type (wlak-in / operator)')['disatisfaction'].plot(kind='density', legend=True)"
   ]
  },
  {
   "cell_type": "code",
   "execution_count": 18,
   "metadata": {},
   "outputs": [],
   "source": [
    "FREEDOM=df[df['Maid Type (wlak-in / operator)']=='FREEDOM_OPERATOR']\n",
    "walkin=df[df['Maid Type (wlak-in / operator)']=='WALKIN']"
   ]
  },
  {
   "cell_type": "code",
   "execution_count": 19,
   "metadata": {},
   "outputs": [
    {
     "data": {
      "text/plain": [
       "count    119.000000\n",
       "mean      11.957983\n",
       "std        6.743980\n",
       "min        2.000000\n",
       "25%        6.500000\n",
       "50%       12.000000\n",
       "75%       16.000000\n",
       "max       32.000000\n",
       "Name: disatisfaction, dtype: float64"
      ]
     },
     "execution_count": 19,
     "metadata": {},
     "output_type": "execute_result"
    }
   ],
   "source": [
    "walkin['disatisfaction'].describe()"
   ]
  },
  {
   "cell_type": "code",
   "execution_count": 20,
   "metadata": {},
   "outputs": [
    {
     "data": {
      "text/plain": [
       "count    300.000000\n",
       "mean       7.583333\n",
       "std        5.883176\n",
       "min        1.000000\n",
       "25%        3.000000\n",
       "50%        6.000000\n",
       "75%       10.000000\n",
       "max       34.000000\n",
       "Name: disatisfaction, dtype: float64"
      ]
     },
     "execution_count": 20,
     "metadata": {},
     "output_type": "execute_result"
    }
   ],
   "source": [
    "FREEDOM['disatisfaction'].describe()"
   ]
  },
  {
   "cell_type": "markdown",
   "metadata": {},
   "source": [
    "We conclude that the mean of client disatisfaction of WALKIN group is greater than FREEDOM_OPERATOR group.\n",
    "so, according to client disatisfaction, FREEDOM_OPERATOR group is more recommonded than WALKIN group."
   ]
  },
  {
   "cell_type": "markdown",
   "metadata": {},
   "source": [
    "## Question 2 :  Fast hiring"
   ]
  },
  {
   "cell_type": "markdown",
   "metadata": {},
   "source": [
    "#### For this question, we use the Nbr. Of days unemployed (available), and  a new created column that represent Time between join date and first time to get hired date, it is the difference between first time to get hired by a client and date of joing the company."
   ]
  },
  {
   "cell_type": "code",
   "execution_count": 21,
   "metadata": {},
   "outputs": [],
   "source": [
    "# create diff between join date and first time to get hired date column\n",
    "df['diff between join date and first time to get hired date']=(df['first time to get hired by a client ']-df['date of joining the company']).dt.days\n"
   ]
  },
  {
   "cell_type": "code",
   "execution_count": 22,
   "metadata": {},
   "outputs": [
    {
     "data": {
      "text/plain": [
       "count    419.000000\n",
       "mean       3.243437\n",
       "std        9.477898\n",
       "min       -2.000000\n",
       "25%        0.000000\n",
       "50%        0.000000\n",
       "75%        0.000000\n",
       "max       80.000000\n",
       "Name: diff between join date and first time to get hired date, dtype: float64"
      ]
     },
     "execution_count": 22,
     "metadata": {},
     "output_type": "execute_result"
    }
   ],
   "source": [
    "df['diff between join date and first time to get hired date'].describe()"
   ]
  },
  {
   "cell_type": "markdown",
   "metadata": {},
   "source": [
    "We observe that some differences are negative, so removing them would be better for the result."
   ]
  },
  {
   "cell_type": "code",
   "execution_count": 46,
   "metadata": {},
   "outputs": [],
   "source": [
    "# remove negative values \n",
    "df=df[df['diff between join date and first time to get hired date']>=0]"
   ]
  },
  {
   "cell_type": "code",
   "execution_count": 24,
   "metadata": {},
   "outputs": [
    {
     "data": {
      "text/plain": [
       "count    417.000000\n",
       "mean       3.266187\n",
       "std        9.494869\n",
       "min        0.000000\n",
       "25%        0.000000\n",
       "50%        0.000000\n",
       "75%        0.000000\n",
       "max       80.000000\n",
       "Name: diff between join date and first time to get hired date, dtype: float64"
      ]
     },
     "execution_count": 24,
     "metadata": {},
     "output_type": "execute_result"
    }
   ],
   "source": [
    "df['diff between join date and first time to get hired date'].describe()"
   ]
  },
  {
   "cell_type": "code",
   "execution_count": 25,
   "metadata": {},
   "outputs": [
    {
     "data": {
      "image/png": "[encoded data removed]",
      "text/plain": [
       "<Figure size 720x360 with 1 Axes>"
      ]
     },
     "metadata": {
      "needs_background": "light"
     },
     "output_type": "display_data"
    }
   ],
   "source": [
    "plt.figure(figsize=(10,5))\n",
    "plt.xlim(0,60)\n",
    "plt.xlabel('Time between join date and first time to get hired date')\n",
    "plt.ylabel('Density')\n",
    "sns.kdeplot(df['diff between join date and first time to get hired date'],shade=True)\n",
    "plt.show()"
   ]
  },
  {
   "cell_type": "markdown",
   "metadata": {},
   "source": [
    "We observe that Time between join date and first time to get hired date Histogram doesn't have normal distribution."
   ]
  },
  {
   "cell_type": "code",
   "execution_count": 26,
   "metadata": {},
   "outputs": [
    {
     "data": {
      "image/png": "[encoded data removed]",
      "text/plain": [
       "<Figure size 720x360 with 1 Axes>"
      ]
     },
     "metadata": {
      "needs_background": "light"
     },
     "output_type": "display_data"
    }
   ],
   "source": [
    "plt.figure(figsize=(10,5))\n",
    "plt.xlim(0,200)\n",
    "plt.xlabel('Nbr. Of days unemployed (available)')\n",
    "plt.ylabel('Density')\n",
    "sns.kdeplot(df['Nbr. Of days unemployed (available)'],shade=True)\n",
    "plt.show()"
   ]
  },
  {
   "cell_type": "markdown",
   "metadata": {},
   "source": [
    "We also observe that Nbr Of days unemployed Histogram doesn't have normal distribution."
   ]
  },
  {
   "cell_type": "code",
   "execution_count": 27,
   "metadata": {
    "scrolled": true
   },
   "outputs": [
    {
     "data": {
      "text/plain": [
       "Maid Type (wlak-in / operator)\n",
       "FREEDOM_OPERATOR    AxesSubplot(0.125,0.125;0.775x0.755)\n",
       "WALKIN              AxesSubplot(0.125,0.125;0.775x0.755)\n",
       "Name: diff between join date and first time to get hired date, dtype: object"
      ]
     },
     "execution_count": 27,
     "metadata": {},
     "output_type": "execute_result"
    },
    {
     "data": {
      "image/png": "[encoded data removed]",
      "text/plain": [
       "<Figure size 432x288 with 1 Axes>"
      ]
     },
     "metadata": {
      "needs_background": "light"
     },
     "output_type": "display_data"
    }
   ],
   "source": [
    "df.groupby('Maid Type (wlak-in / operator)')['diff between join date and first time to get hired date'].plot(kind='density', legend=True)"
   ]
  },
  {
   "cell_type": "markdown",
   "metadata": {},
   "source": [
    "We observe that the two distribution are closed to each other, so we don't see any difference between them.\n",
    "The next step is using Box-plot."
   ]
  },
  {
   "cell_type": "code",
   "execution_count": 28,
   "metadata": {},
   "outputs": [
    {
     "data": {
      "text/plain": [
       "Maid Type (wlak-in / operator)\n",
       "FREEDOM_OPERATOR    AxesSubplot(0.125,0.125;0.775x0.755)\n",
       "WALKIN              AxesSubplot(0.125,0.125;0.775x0.755)\n",
       "Name: Nbr. Of days unemployed (available), dtype: object"
      ]
     },
     "execution_count": 28,
     "metadata": {},
     "output_type": "execute_result"
    },
    {
     "data": {
      "image/png": "[encoded data removed]",
      "text/plain": [
       "<Figure size 432x288 with 1 Axes>"
      ]
     },
     "metadata": {
      "needs_background": "light"
     },
     "output_type": "display_data"
    }
   ],
   "source": [
    "df.groupby('Maid Type (wlak-in / operator)')['Nbr. Of days unemployed (available)'].plot(kind='density', legend=True)"
   ]
  },
  {
   "cell_type": "markdown",
   "metadata": {},
   "source": [
    "We observe that the two distribution of Nmbr of days unemployed are closed to each other, so we don't see any difference between them.\n",
    "The next step is using Box-plot."
   ]
  },
  {
   "cell_type": "code",
   "execution_count": 29,
   "metadata": {},
   "outputs": [
    {
     "data": {
      "image/png": "[encoded data removed]",
      "text/plain": [
       "<Figure size 432x288 with 1 Axes>"
      ]
     },
     "metadata": {
      "needs_background": "light"
     },
     "output_type": "display_data"
    }
   ],
   "source": [
    "ax = sns.boxplot(x=\"Maid Type (wlak-in / operator)\", y=\"diff between join date and first time to get hired date\", data=df)"
   ]
  },
  {
   "cell_type": "markdown",
   "metadata": {},
   "source": [
    "We don't observe any information because of outliers."
   ]
  },
  {
   "cell_type": "code",
   "execution_count": 30,
   "metadata": {},
   "outputs": [
    {
     "data": {
      "image/png": "[encoded data removed]",
      "text/plain": [
       "<Figure size 432x288 with 1 Axes>"
      ]
     },
     "metadata": {
      "needs_background": "light"
     },
     "output_type": "display_data"
    }
   ],
   "source": [
    "ax = sns.boxplot(x=\"Maid Type (wlak-in / operator)\", y=\"Nbr. Of days unemployed (available)\", data=df)"
   ]
  },
  {
   "cell_type": "markdown",
   "metadata": {},
   "source": [
    "Unlike the first box-plot, this box-plot is less confusing, We observe a small diference between the distribution of the two types as well as it have outliers."
   ]
  },
  {
   "cell_type": "code",
   "execution_count": 31,
   "metadata": {},
   "outputs": [],
   "source": [
    "FREEDOM1=df[df['Maid Type (wlak-in / operator)']=='FREEDOM_OPERATOR']\n",
    "walkin1=df[df['Maid Type (wlak-in / operator)']=='WALKIN']"
   ]
  },
  {
   "cell_type": "code",
   "execution_count": 32,
   "metadata": {},
   "outputs": [
    {
     "data": {
      "text/plain": [
       "count    119.000000\n",
       "mean       2.663866\n",
       "std        7.137009\n",
       "min        0.000000\n",
       "25%        0.000000\n",
       "50%        0.000000\n",
       "75%        0.000000\n",
       "max       45.000000\n",
       "Name: diff between join date and first time to get hired date, dtype: float64"
      ]
     },
     "execution_count": 32,
     "metadata": {},
     "output_type": "execute_result"
    }
   ],
   "source": [
    "walkin1['diff between join date and first time to get hired date'].describe()\n"
   ]
  },
  {
   "cell_type": "code",
   "execution_count": 33,
   "metadata": {},
   "outputs": [
    {
     "data": {
      "text/plain": [
       "count    298.000000\n",
       "mean       3.506711\n",
       "std       10.287531\n",
       "min        0.000000\n",
       "25%        0.000000\n",
       "50%        0.000000\n",
       "75%        0.000000\n",
       "max       80.000000\n",
       "Name: diff between join date and first time to get hired date, dtype: float64"
      ]
     },
     "execution_count": 33,
     "metadata": {},
     "output_type": "execute_result"
    }
   ],
   "source": [
    "FREEDOM1['diff between join date and first time to get hired date'].describe()"
   ]
  },
  {
   "cell_type": "markdown",
   "metadata": {},
   "source": [
    "We observe a small difference between the mean of the two types."
   ]
  },
  {
   "cell_type": "code",
   "execution_count": 34,
   "metadata": {},
   "outputs": [
    {
     "data": {
      "text/plain": [
       "count    119.000000\n",
       "mean      36.537815\n",
       "std       32.071369\n",
       "min        0.000000\n",
       "25%       14.000000\n",
       "50%       27.000000\n",
       "75%       48.500000\n",
       "max      138.000000\n",
       "Name: Nbr. Of days unemployed (available), dtype: float64"
      ]
     },
     "execution_count": 34,
     "metadata": {},
     "output_type": "execute_result"
    }
   ],
   "source": [
    "walkin1['Nbr. Of days unemployed (available)'].describe()"
   ]
  },
  {
   "cell_type": "code",
   "execution_count": 35,
   "metadata": {},
   "outputs": [
    {
     "data": {
      "text/plain": [
       "count    298.000000\n",
       "mean      34.077181\n",
       "std       26.565289\n",
       "min        0.000000\n",
       "25%       13.250000\n",
       "50%       28.000000\n",
       "75%       48.750000\n",
       "max      169.000000\n",
       "Name: Nbr. Of days unemployed (available), dtype: float64"
      ]
     },
     "execution_count": 35,
     "metadata": {},
     "output_type": "execute_result"
    }
   ],
   "source": [
    "FREEDOM1['Nbr. Of days unemployed (available)'].describe()"
   ]
  },
  {
   "cell_type": "markdown",
   "metadata": {},
   "source": [
    "As a result, We conclude that FREEDOM_OPERATOR is faster to get hired by a client,\n"
   ]
  },
  {
   "cell_type": "markdown",
   "metadata": {},
   "source": [
    "## Question 3  :  Failed interview"
   ]
  },
  {
   "cell_type": "markdown",
   "metadata": {},
   "source": [
    "#### For this question, we created a new column that represent failed interview, it is the difference between number of interviews done and nunmber of sucessful interviews. then we will proceed with the same analysis done for the above questions."
   ]
  },
  {
   "cell_type": "code",
   "execution_count": 36,
   "metadata": {},
   "outputs": [
    {
     "data": {
      "text/plain": [
       "count    417.000000\n",
       "mean      11.743405\n",
       "std        8.743341\n",
       "min        0.000000\n",
       "25%        4.000000\n",
       "50%       11.000000\n",
       "75%       17.000000\n",
       "max       53.000000\n",
       "Name: failed_interview, dtype: float64"
      ]
     },
     "execution_count": 36,
     "metadata": {},
     "output_type": "execute_result"
    }
   ],
   "source": [
    "# create failed interviw column \n",
    "df['failed_interview']=df['Number Of Interviews done']-df['Number of successful interviews (if exists)']\n",
    "df['failed_interview'].describe()"
   ]
  },
  {
   "cell_type": "code",
   "execution_count": 37,
   "metadata": {},
   "outputs": [
    {
     "data": {
      "image/png": "[encoded data removed]",
      "text/plain": [
       "<Figure size 720x360 with 1 Axes>"
      ]
     },
     "metadata": {
      "needs_background": "light"
     },
     "output_type": "display_data"
    }
   ],
   "source": [
    "plt.figure(figsize=(10,5))\n",
    "plt.xlim(0,100)\n",
    "plt.xlabel('failed_interview')\n",
    "plt.ylabel('Density')\n",
    "sns.kdeplot(df['failed_interview'],shade=True)\n",
    "plt.show()"
   ]
  },
  {
   "cell_type": "markdown",
   "metadata": {},
   "source": [
    "We observe that failed_interview Histogram doesn't have normal distribution."
   ]
  },
  {
   "cell_type": "code",
   "execution_count": 38,
   "metadata": {},
   "outputs": [
    {
     "data": {
      "text/plain": [
       "Maid Type (wlak-in / operator)\n",
       "FREEDOM_OPERATOR    AxesSubplot(0.125,0.125;0.775x0.755)\n",
       "WALKIN              AxesSubplot(0.125,0.125;0.775x0.755)\n",
       "Name: failed_interview, dtype: object"
      ]
     },
     "execution_count": 38,
     "metadata": {},
     "output_type": "execute_result"
    },
    {
     "data": {
      "image/png": "[encoded data removed]",
      "text/plain": [
       "<Figure size 432x288 with 1 Axes>"
      ]
     },
     "metadata": {
      "needs_background": "light"
     },
     "output_type": "display_data"
    }
   ],
   "source": [
    "df.groupby('Maid Type (wlak-in / operator)')['failed_interview'].plot(kind='density', legend=True)\n"
   ]
  },
  {
   "cell_type": "markdown",
   "metadata": {},
   "source": [
    "We observe that the distributions are closed to each other and doesn't have a normal distribution, as well as the failed interview rate is increasing in WALKIN type than in FREEDOM type."
   ]
  },
  {
   "cell_type": "code",
   "execution_count": 39,
   "metadata": {},
   "outputs": [
    {
     "data": {
      "image/png": "[encoded data removed]",
      "text/plain": [
       "<Figure size 432x288 with 1 Axes>"
      ]
     },
     "metadata": {
      "needs_background": "light"
     },
     "output_type": "display_data"
    }
   ],
   "source": [
    "ax = sns.boxplot(x=\"Maid Type (wlak-in / operator)\", y=\"failed_interview\", data=df)"
   ]
  },
  {
   "cell_type": "markdown",
   "metadata": {},
   "source": [
    "We observe that data has outliers, as well as failed interviwe is higher for FREEDOM type than walkin type."
   ]
  },
  {
   "cell_type": "code",
   "execution_count": 40,
   "metadata": {},
   "outputs": [],
   "source": [
    "FREEDOM2=df[df['Maid Type (wlak-in / operator)']=='FREEDOM_OPERATOR']\n",
    "walkin2=df[df['Maid Type (wlak-in / operator)']=='WALKIN']"
   ]
  },
  {
   "cell_type": "code",
   "execution_count": 41,
   "metadata": {},
   "outputs": [
    {
     "data": {
      "text/plain": [
       "count    119.000000\n",
       "mean       9.537815\n",
       "std        8.774761\n",
       "min        0.000000\n",
       "25%        3.000000\n",
       "50%        8.000000\n",
       "75%       14.000000\n",
       "max       53.000000\n",
       "Name: failed_interview, dtype: float64"
      ]
     },
     "execution_count": 41,
     "metadata": {},
     "output_type": "execute_result"
    }
   ],
   "source": [
    "walkin2['failed_interview'].describe()"
   ]
  },
  {
   "cell_type": "code",
   "execution_count": 42,
   "metadata": {},
   "outputs": [
    {
     "data": {
      "text/plain": [
       "count    298.000000\n",
       "mean      12.624161\n",
       "std        8.588205\n",
       "min        0.000000\n",
       "25%        5.000000\n",
       "50%       13.000000\n",
       "75%       18.000000\n",
       "max       38.000000\n",
       "Name: failed_interview, dtype: float64"
      ]
     },
     "execution_count": 42,
     "metadata": {},
     "output_type": "execute_result"
    }
   ],
   "source": [
    "FREEDOM2['failed_interview'].describe()"
   ]
  },
  {
   "cell_type": "markdown",
   "metadata": {},
   "source": [
    "We observe that the mean of failed interview of FREEDOM_OPERATOR group is greater than WALKIN group.\n"
   ]
  },
  {
   "cell_type": "markdown",
   "metadata": {},
   "source": [
    "As a result, We conclude that FREEDOM OPERATOR has a high failed interview rate tha WALKIN type."
   ]
  },
  {
   "cell_type": "markdown",
   "metadata": {},
   "source": [
    "## Question 4  :  Termination rate"
   ]
  },
  {
   "cell_type": "markdown",
   "metadata": {},
   "source": [
    "#### In this question, we are going to mesure the relationship between two categorical variables, namely, type of maids and termination type."
   ]
  },
  {
   "cell_type": "code",
   "execution_count": 43,
   "metadata": {},
   "outputs": [
    {
     "data": {
      "text/plain": [
       "FIRED                   281\n",
       "QUIT                    132\n",
       "CONVERTED_TO_MAIDSAE      4\n",
       "Name: mode of termination, dtype: int64"
      ]
     },
     "execution_count": 43,
     "metadata": {},
     "output_type": "execute_result"
    }
   ],
   "source": [
    "df['mode of termination'].value_counts()"
   ]
  },
  {
   "cell_type": "markdown",
   "metadata": {},
   "source": [
    "We observe that there are three types of termination, two of them are very frequent, we will then take in consideration only this two types.\n"
   ]
  },
  {
   "cell_type": "code",
   "execution_count": 44,
   "metadata": {},
   "outputs": [
    {
     "data": {
      "text/html": [
       "<div>\n",
       "<style scoped>\n",
       "    .dataframe tbody tr th:only-of-type {\n",
       "        vertical-align: middle;\n",
       "    }\n",
       "\n",
       "    .dataframe tbody tr th {\n",
       "        vertical-align: top;\n",
       "    }\n",
       "\n",
       "    .dataframe thead th {\n",
       "        text-align: right;\n",
       "    }\n",
       "</style>\n",
       "<table border=\"1\" class=\"dataframe\">\n",
       "  <thead>\n",
       "    <tr style=\"text-align: right;\">\n",
       "      <th>mode of termination</th>\n",
       "      <th>CONVERTED_TO_MAIDSAE</th>\n",
       "      <th>FIRED</th>\n",
       "      <th>QUIT</th>\n",
       "      <th>All</th>\n",
       "    </tr>\n",
       "    <tr>\n",
       "      <th>Maid Type (wlak-in / operator)</th>\n",
       "      <th></th>\n",
       "      <th></th>\n",
       "      <th></th>\n",
       "      <th></th>\n",
       "    </tr>\n",
       "  </thead>\n",
       "  <tbody>\n",
       "    <tr>\n",
       "      <th>FREEDOM_OPERATOR</th>\n",
       "      <td>2</td>\n",
       "      <td>194</td>\n",
       "      <td>102</td>\n",
       "      <td>298</td>\n",
       "    </tr>\n",
       "    <tr>\n",
       "      <th>WALKIN</th>\n",
       "      <td>2</td>\n",
       "      <td>87</td>\n",
       "      <td>30</td>\n",
       "      <td>119</td>\n",
       "    </tr>\n",
       "    <tr>\n",
       "      <th>All</th>\n",
       "      <td>4</td>\n",
       "      <td>281</td>\n",
       "      <td>132</td>\n",
       "      <td>417</td>\n",
       "    </tr>\n",
       "  </tbody>\n",
       "</table>\n",
       "</div>"
      ],
      "text/plain": [
       "mode of termination             CONVERTED_TO_MAIDSAE  FIRED  QUIT  All\n",
       "Maid Type (wlak-in / operator)                                        \n",
       "FREEDOM_OPERATOR                                   2    194   102  298\n",
       "WALKIN                                             2     87    30  119\n",
       "All                                                4    281   132  417"
      ]
     },
     "execution_count": 44,
     "metadata": {},
     "output_type": "execute_result"
    }
   ],
   "source": [
    "freq=pd.crosstab(index=df[\"Maid Type (wlak-in / operator)\"], \n",
    "                             columns=df[\"mode of termination\"],\n",
    "                             margins=True)\n",
    "freq"
   ]
  },
  {
   "cell_type": "markdown",
   "metadata": {},
   "source": [
    "We observe that rate of FIRED is higher in FREEDOM OPERATOR than WALKIN, as well as the rate of QUIT is higher in FREEDOM OPERATOR than WALKIN."
   ]
  },
  {
   "cell_type": "markdown",
   "metadata": {},
   "source": [
    "## Question 5  :  Proposition"
   ]
  },
  {
   "cell_type": "markdown",
   "metadata": {},
   "source": [
    "#### Base on analysis done above, if the company focus on client satisfaction and fast hiring, we propose to proceed with FREEDOM_OPERATOR type,but if the company focus on failed interviw and termination rate, we propose to proceed with WALKIN type."
   ]
  }
 ],
 "metadata": {
  "kernelspec": {
   "display_name": "Python 3",
   "language": "python",
   "name": "python3"
  },
  "language_info": {
   "codemirror_mode": {
    "name": "ipython",
    "version": 3
   },
   "file_extension": ".py",
   "mimetype": "text/x-python",
   "name": "python",
   "nbconvert_exporter": "python",
   "pygments_lexer": "ipython3",
   "version": "3.7.4"
  }
 },
 "nbformat": 4,
 "nbformat_minor": 4
}
